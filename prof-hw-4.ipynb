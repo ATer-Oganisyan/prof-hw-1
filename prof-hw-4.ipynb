{
 "cells": [
  {
   "cell_type": "markdown",
   "id": "337535bc",
   "metadata": {},
   "source": [
    "# Инициализируем данные по авиасообщениями между аэропортами (иными словами - задаем матрицу графа)\n"
   ]
  },
  {
   "cell_type": "code",
   "execution_count": 1,
   "id": "bb698cd9",
   "metadata": {},
   "outputs": [],
   "source": [
    "# Аэропорты нумеруем простыми числами (случайным обрзом)\n",
    "# Вообще, по идее, выгружать эту инфу извне, но лень :)\n",
    "\n",
    "gr_mtx = [\n",
    "    [1, 0, 1, 0, 0, 1, 0, 1, 1, 1], \n",
    "    [0, 1, 1, 1, 0, 0, 0, 1, 1, 0], \n",
    "    [1, 0, 1, 0, 1, 1, 0, 0, 0, 1], \n",
    "    [0, 0, 0, 1, 1, 1, 0, 0, 0, 1], \n",
    "    [0, 0, 0, 1, 1, 1, 1, 0, 0, 1], \n",
    "    [1, 0, 0, 1, 1, 1, 1, 0, 0, 0], \n",
    "    [1, 0, 0, 1, 1, 0, 1, 0, 1, 1], \n",
    "    [1, 0, 0, 1, 1, 1, 1, 1, 0, 0], \n",
    "    [0, 0, 0, 1, 1, 0, 1, 0, 1, 1], \n",
    "    [0, 0, 0, 1, 1, 0, 1, 0, 1, 1] \n",
    "]\n",
    "\n",
    "n = 10"
   ]
  },
  {
   "cell_type": "markdown",
   "id": "57d9355e",
   "metadata": {},
   "source": [
    "# Обход графа (заражение с определенной вероятностью)"
   ]
  },
  {
   "cell_type": "code",
   "execution_count": 17,
   "id": "8c66a83b",
   "metadata": {},
   "outputs": [
    {
     "name": "stdout",
     "output_type": "stream",
     "text": [
      "{2: 1, 0: 2, 5: 3, 3: 4, 4: 5, 6: 6, 8: 7}\n"
     ]
    }
   ],
   "source": [
    "import numpy as np\n",
    "\n",
    "def infect_net(start, prob, infected_points = {}, counter = 1):\n",
    "    aa = np.arange(start = 0, stop = 2, step = 1)\n",
    "    pp = [1 - prob, prob]\n",
    "    rand = np.random.choice(a = aa, p = pp)\n",
    "\n",
    "    \n",
    "    if (rand == 0):\n",
    "        return infected_points\n",
    "    \n",
    "    infected_points[start] = counter\n",
    "    \n",
    "    connected_points = gr_mtx[start]\n",
    "    \n",
    "    for i in range(0, n - 1):\n",
    "        if (i != start and i not in infected_points and connected_points[i] == 1):\n",
    "            infected_points = infect_net(i, prob, infected_points, counter + 1)\n",
    "    \n",
    "    return infected_points\n",
    "    \n",
    "result = infect_net(2, 0.9)\n",
    "print(result)"
   ]
  },
  {
   "cell_type": "code",
   "execution_count": null,
   "id": "42512614",
   "metadata": {},
   "outputs": [],
   "source": []
  }
 ],
 "metadata": {
  "kernelspec": {
   "display_name": "Python 3 (ipykernel)",
   "language": "python",
   "name": "python3"
  },
  "language_info": {
   "codemirror_mode": {
    "name": "ipython",
    "version": 3
   },
   "file_extension": ".py",
   "mimetype": "text/x-python",
   "name": "python",
   "nbconvert_exporter": "python",
   "pygments_lexer": "ipython3",
   "version": "3.11.4"
  }
 },
 "nbformat": 4,
 "nbformat_minor": 5
}
