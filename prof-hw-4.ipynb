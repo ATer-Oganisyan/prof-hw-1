{
 "cells": [
  {
   "cell_type": "markdown",
   "id": "337535bc",
   "metadata": {},
   "source": [
    "# Инициализируем данные по авиасообщениями между аэропортами (иными словами - задаем матрицу графа). Без использования NetworkX\n"
   ]
  },
  {
   "cell_type": "code",
   "execution_count": 1,
   "id": "bb698cd9",
   "metadata": {},
   "outputs": [],
   "source": [
    "# Аэропорты нумеруем простыми числами (случайным обрзом)\n",
    "# Вообще, по идее, выгружать эту инфу извне, но лень :)\n",
    "\n",
    "gr_mtx = [\n",
    "    [1, 0, 1, 0, 0, 1, 0, 1, 1, 1], \n",
    "    [0, 1, 1, 1, 0, 0, 0, 1, 1, 0], \n",
    "    [1, 0, 1, 0, 1, 1, 0, 0, 0, 1], \n",
    "    [0, 0, 0, 1, 1, 1, 0, 0, 0, 1], \n",
    "    [0, 0, 0, 1, 1, 1, 1, 0, 0, 1], \n",
    "    [1, 0, 0, 1, 1, 1, 1, 0, 0, 0], \n",
    "    [1, 0, 0, 1, 1, 0, 1, 0, 1, 1], \n",
    "    [1, 0, 0, 1, 1, 1, 1, 1, 0, 0], \n",
    "    [0, 0, 0, 1, 1, 0, 1, 0, 1, 1], \n",
    "    [0, 0, 0, 1, 1, 0, 1, 0, 1, 1] \n",
    "]\n",
    "\n",
    "n = 10 # количество аэропортов"
   ]
  },
  {
   "cell_type": "markdown",
   "id": "57d9355e",
   "metadata": {},
   "source": [
    "# Обход графа (заражение с определенной вероятностью)"
   ]
  },
  {
   "cell_type": "code",
   "execution_count": 49,
   "id": "8c66a83b",
   "metadata": {},
   "outputs": [
    {
     "name": "stdout",
     "output_type": "stream",
     "text": [
      "Аэропорт № 0 Заразился за  2  шагов обхода\n",
      "Аэропорт № 2 Заразился за  1  шагов обхода\n",
      "Аэропорт № 3 Заразился за  6  шагов обхода\n",
      "Аэропорт № 4 Заразился за  9  шагов обхода\n",
      "Аэропорт № 5 Заразился за  8  шагов обхода\n",
      "Аэропорт № 6 Заразился за  7  шагов обхода\n",
      "Аэропорт № 8 Заразился за  5  шагов обхода\n"
     ]
    }
   ],
   "source": [
    "import numpy as np\n",
    "\n",
    "def infect_net(start, prob, infected_points = {}, counter = 1):\n",
    "    aa = np.arange(start = 0, stop = 2, step = 1)\n",
    "    pp = [1 - prob, prob]\n",
    "    rand = np.random.choice(a = aa, p = pp)\n",
    "\n",
    "    \n",
    "    if (rand == 0):\n",
    "        return infected_points\n",
    "    \n",
    "    infected_points[start] = counter\n",
    "    \n",
    "    connected_points = gr_mtx[start]\n",
    "    \n",
    "    for i in range(0, n - 1):\n",
    "        if (i != start and i not in infected_points and connected_points[i] == 1):\n",
    "            infected_points = infect_net(i, prob, infected_points, counter + 1)\n",
    "            counter = counter + 1\n",
    "    \n",
    "    return infected_points\n",
    "    \n",
    "result = infect_net(start = 2, prob = 0.8)\n",
    "\n",
    "\n",
    "for i in range(0, n - 1):\n",
    "    if (result.get(i) != None):\n",
    "        print(\"Аэропорт №\", i, 'Заразился за ', result.get(i), ' шагов обхода')\n",
    "    "
   ]
  },
  {
   "cell_type": "markdown",
   "id": "219b3ab6",
   "metadata": {},
   "source": [
    "# Симуляция без использования графов. Данные по перелетам ожидаем в формате расписания. А именно: ключ - время (в часах), отсчитывая от какого-то момента времени, значения - пара (начало и конец маршрута). Исходя из условия задачи, стартовый аэропорт уже заражен, т. е. к нему вероятность не применяем.  "
   ]
  },
  {
   "cell_type": "code",
   "execution_count": 191,
   "id": "a5f9b16a",
   "metadata": {},
   "outputs": [
    {
     "name": "stdout",
     "output_type": "stream",
     "text": [
      "Аэропорт № 0 Заразился за  0  часов\n",
      "Аэропорт № 1 Заразился за  23  часов\n",
      "Аэропорт № 2 Заразился за  1  часов\n",
      "Аэропорт № 3 Заразился за  25  часов\n",
      "Аэропорт № 5 Заразился за  62  часов\n",
      "Аэропорт № 6 Заразился за  49  часов\n",
      "Аэропорт № 7 Заразился за  23  часов\n",
      "Аэропорт № 8 Заразился за  59  часов\n"
     ]
    }
   ],
   "source": [
    "import numpy as np\n",
    "\n",
    "time_table = {\n",
    "    1: [[0, 2], [1, 3]],\n",
    "    2: [[1, 5], [1, 4], [0, 3]],\n",
    "    3: [[0, 1], [1, 3], [3, 9], [0, 9]],\n",
    "    4: [[6, 7], [4, 1], [3, 2], [4, 1], [3, 2]],\n",
    "    5: [[8, 9], [9, 8], [9, 6]],\n",
    "    6: [[4, 3], [4, 5], [3, 9],[5, 7], [6, 2]],\n",
    "    7: [[4, 0], [2, 3], [5, 7], [9, 3], [7, 0]],\n",
    "    8: [[7, 9], [7, 2], [6, 0], [0, 4], [0, 5]],\n",
    "    9: [[7, 3], [4, 2], [4, 1]],\n",
    "    10: [[8, 1], [3, 8], [7, 2]],\n",
    "    11: [[0, 7], [2, 6], [0, 1], [3, 4], [6, 5]],\n",
    "    13: [[0, 2], [1, 3]],\n",
    "    14: [[1, 5], [1, 4], [0, 3], [9, 8], [7, 3]],\n",
    "    15: [[0, 1], [4, 1], [3, 2]],\n",
    "    16: [[6, 7], [4, 1], [3, 2], [1, 2], [2, 1]],\n",
    "    17: [[8, 9], [9, 8], [9, 6]],\n",
    "    18: [[4, 3], [4, 5], [3, 9]],\n",
    "    19: [[4, 0], [2, 3], [5, 7], [4, 5], [9, 8]],\n",
    "    20: [[7, 9], [7, 2], [6, 0]],\n",
    "    21: [[7, 3], [4, 2], [4, 1], [5, 0], [1, 4]],\n",
    "    22: [[8, 1], [3, 8], [7, 2]],\n",
    "    23: [[0, 7], [2, 6], [0, 1], [4, 3], [2, 1]],\n",
    "    24: [[0, 2], [1, 3]],\n",
    "    25: [[1, 5], [1, 4], [0, 3], [1, 2], [3, 4]],\n",
    "    26: [[0, 1]],\n",
    "    27: [[6, 7], [4, 1], [3, 2]],\n",
    "    28: [[8, 9], [9, 8], [9, 6]],\n",
    "    29: [[4, 3], [4, 5], [3, 9], [3, 4], [4, 3]],\n",
    "    30: [[4, 0], [2, 3], [5, 7]],\n",
    "    31: [[7, 9], [7, 2], [6, 0], [1, 0], [0, 1]],\n",
    "    32: [[7, 3], [4, 2], [4, 1]],\n",
    "    33: [[8, 1], [3, 8], [7, 2]],\n",
    "    34: [[0, 7], [2, 6], [0, 1], [2, 9], [8, 3]],\n",
    "    35: [[0, 2], [1, 3]],\n",
    "    36: [[1, 5], [1, 4], [0, 3]],\n",
    "    37: [[0, 1]],\n",
    "    38: [[6, 7], [4, 1], [3, 2], [9, 0], [1, 8]],\n",
    "    39: [[8, 9], [9, 8], [9, 6]],\n",
    "    40: [[4, 3], [4, 5], [3, 9], [7, 5], [4, 8]],\n",
    "    41: [[4, 0], [2, 3], [5, 7]],\n",
    "    42: [[7, 9], [7, 2], [6, 0]],\n",
    "    43: [[7, 3], [4, 2], [4, 1], [4, 1], [3, 2]],\n",
    "    44: [[8, 1], [3, 8], [7, 2]],\n",
    "    45: [[0, 7], [2, 6], [0, 1], [4, 1], [3, 2]],\n",
    "    46: [[7, 9], [7, 2], [6, 0]],\n",
    "    47: [[7, 3], [4, 2], [4, 1], [0, 1], [2, 3]],\n",
    "    48: [[8, 1], [3, 8], [7, 2]],\n",
    "    49: [[0, 7], [2, 6], [0, 1]],\n",
    "    50: [[0, 2], [1, 3]],\n",
    "    51: [[1, 5], [1, 4], [0, 3], [4, 5], [6, 7]],\n",
    "    52: [[0, 1]],\n",
    "    53: [[6, 7], [4, 1], [3, 2]],\n",
    "    54: [[8, 9], [9, 8], [9, 6]],\n",
    "    55: [[4, 3], [4, 5], [3, 9], [8, 9], [1, 7]],\n",
    "    56: [[4, 0], [2, 3], [5, 7]],\n",
    "    57: [[7, 9], [7, 2], [6, 0]],\n",
    "    58: [[7, 3], [4, 2], [4, 1]],\n",
    "    59: [[8, 1], [3, 8], [7, 2], [8, 1], [0, 3]],\n",
    "    60: [[0, 7], [2, 6], [0, 1]],\n",
    "    61: [[0, 2], [1, 3]],\n",
    "    62: [[1, 5], [1, 4], [0, 3]],\n",
    "    63: [[0, 1]],\n",
    "    64: [[6, 7], [4, 1], [3, 2], [4, 1], [2, 0]],\n",
    "    65: [[8, 9], [9, 8], [9, 6]],\n",
    "    66: [[4, 3], [4, 5], [3, 9]],\n",
    "    67: [[4, 0], [2, 3], [5, 7], [0, 1], [3, 2]],\n",
    "    68: [[7, 9], [7, 2], [6, 0]],\n",
    "    69: [[7, 3], [4, 2], [4, 1], [4, 1], [3, 2]],\n",
    "    70: [[8, 1], [3, 8], [7, 2]],\n",
    "    71: [[1, 7], [2, 6], [2, 1], [4, 9], [9, 4]],\n",
    "    72: [[0, 7], [2, 6], [0, 1]],\n",
    "}\n",
    "\n",
    "\n",
    "\n",
    "def is_infected(prob):\n",
    "    aa = np.arange(start = 0, stop = 2, step = 1)\n",
    "    pp = [1 - prob, prob]\n",
    "    rand = np.random.choice(a = aa, p = pp)\n",
    "    if (rand == 1):\n",
    "        return True\n",
    "    return False\n",
    "    \n",
    "\n",
    "def simulate_infections(start, prob):\n",
    "    airports_infected_times = [-1, -1, -1, -1, -1, -1, -1, -1, -1, -1] # В начале ни один из них не заражен (-1 - незаражен, иное - время заражения)\n",
    "    airports_infected_times[start] = 0 #стартовый аэропрот заражен в нулевой точке отчета времени\n",
    "    \n",
    "    times_of_connections = time_table.keys()\n",
    "    \n",
    "    for time_of_connection in times_of_connections:\n",
    "        connections = time_table[time_of_connection]\n",
    "        \n",
    "        for connection in connections:\n",
    "            airport_start_index = connection[0]\n",
    "            airport_destination_index = connection[1]\n",
    "            \n",
    "            airport_start_is_infected = airports_infected_times[airport_start_index]\n",
    "            airport_destination_is_infected = airports_infected_times[airport_destination_index]\n",
    "            \n",
    "            if (airport_start_is_infected > -1 and is_infected(prob) and airport_destination_is_infected == -1):\n",
    "                airports_infected_times[airport_destination_index] = time_of_connection\n",
    "                \n",
    "    return airports_infected_times\n",
    "            \n",
    "\n",
    "result = simulate_infections(0, 0.1)\n",
    "\n",
    "for i in range(0, n - 1):\n",
    "    if (result[i] > -1):\n",
    "        print(\"Аэропорт №\", i, 'Заразился за ', result[i], ' часов')\n"
   ]
  },
  {
   "cell_type": "markdown",
   "id": "989efdfb",
   "metadata": {},
   "source": [
    "# Собираем статистику"
   ]
  },
  {
   "cell_type": "code",
   "execution_count": 192,
   "id": "6363faf4",
   "metadata": {},
   "outputs": [],
   "source": [
    "probs = [0.01, 0.05, 0.1, 0.5, 1]\n",
    "stats = {}\n",
    "for prob in probs:\n",
    "    stats[prob] = [[], [], [], [], [], [], [], [], [], []]\n",
    "    for i in range(0, 10):\n",
    "        stats[prob][i] = simulate_infections(0, prob)\n",
    "        \n",
    "# print(stats)\n",
    "# Формат {0.0.5: [0, 12, 12, 9, 8, 15 ...], 0.1: [0, 12, 12, 9, 8, 15 ...], ...}"
   ]
  },
  {
   "cell_type": "code",
   "execution_count": 193,
   "id": "472c18b9",
   "metadata": {},
   "outputs": [],
   "source": [
    "# Количество зараженных аэропортов за период\n",
    "# Формат {0: 0, 12: 0: 24: 4, 36: 4: 48: 9} \n",
    "def percent_of_infected_points_for_period(airports_infected_times, period):\n",
    "    percent_of_infected_points_for_period = {}\n",
    "    for time in range(0, 84, period):\n",
    "        count = 0\n",
    "        for airport_infected_time in airports_infected_times:\n",
    "            if (airport_infected_time <= time and airport_infected_time != -1):\n",
    "                count = count + 1\n",
    "            percent_of_infected_points_for_period[time] = count / n # n - общее количество аэропортов\n",
    "        #print(\"time \", time, \", count = \", count, ', n = ', n, ' percent = ', percent_of_infected_points_for_period[time])\n",
    "    return percent_of_infected_points_for_period    \n",
    "\n",
    "#Тест\n",
    "#percent_of_infected_points_for_period(simulate_infections(0, 0.5), 12)"
   ]
  },
  {
   "cell_type": "code",
   "execution_count": 194,
   "id": "bbfc1481",
   "metadata": {},
   "outputs": [],
   "source": [
    "# Усредняет данные по массиву словарей. На входе массив словарей, на выходе словарь с теми же ключами, но усредненными данными\n",
    "def calc_avg_infected_points(infected_points):\n",
    "    result = {}\n",
    "    keys = infected_points[0].keys()\n",
    "    cnt = len(infected_points) # Количество выборок для каждой вероятности\n",
    "\n",
    "    \n",
    "    for key in keys:\n",
    "        sum = 0\n",
    "        for infected_point in infected_points:\n",
    "            sum = sum + infected_point.get(key)\n",
    "        result[key] = sum / cnt\n",
    "        if (result[key] > 1):\n",
    "            print(\"ОШИБКА: Процент получился больше 1\")\n",
    "            print(\"result: \", result[key])\n",
    "            print(\"cnt = \", cnt)\n",
    "            print(\"key = \", key)\n",
    "            print(\"Значения:\")\n",
    "            for infected_point in infected_points:\n",
    "                print(infected_point.get(key))\n",
    "            print(\"=============================\")\n",
    "        \n",
    "    return result\n",
    "\n",
    "# Тест\n",
    "# infected_points_ = [{0: 1, 12: 4}, {0: 3, 12: 6}]\n",
    "# expected = {0: 2, 12: 5}\n",
    "# actual = calc_avg_infected_points(infected_points_)\n",
    "# print(actual)"
   ]
  },
  {
   "cell_type": "code",
   "execution_count": 195,
   "id": "8be35b71",
   "metadata": {},
   "outputs": [
    {
     "name": "stdout",
     "output_type": "stream",
     "text": [
      "{0.01: {0: 0.09999999999999999, 12: 0.09999999999999999, 24: 0.09999999999999999, 36: 0.09999999999999999, 48: 0.09999999999999999, 60: 0.09999999999999999, 72: 0.12000000000000002}, 0.05: {0: 0.09999999999999999, 12: 0.14, 24: 0.18, 36: 0.24, 48: 0.27999999999999997, 60: 0.37, 72: 0.41}, 0.1: {0: 0.09999999999999999, 12: 0.18, 24: 0.30000000000000004, 36: 0.37, 48: 0.45999999999999996, 60: 0.5599999999999998, 72: 0.6299999999999999}, 0.5: {0: 0.09999999999999999, 12: 0.66, 24: 0.95, 36: 0.99, 48: 1.0, 60: 1.0, 72: 1.0}, 1: {0: 0.09999999999999999, 12: 1.0, 24: 1.0, 36: 1.0, 48: 1.0, 60: 1.0, 72: 1.0}}\n"
     ]
    }
   ],
   "source": [
    "avg_infected_points = {}\n",
    "period = 12\n",
    "for prob in probs:\n",
    "    infected_points = []\n",
    "    stat = stats[prob]\n",
    "    for data_set in stat:\n",
    "        pcnt_for_period = percent_of_infected_points_for_period(data_set, period)\n",
    "        infected_points.append(pcnt_for_period)\n",
    "        # print(infected_points)\n",
    "    avg_infected_points[prob] = calc_avg_infected_points(infected_points)\n",
    "print(avg_infected_points)\n"
   ]
  },
  {
   "cell_type": "code",
   "execution_count": 196,
   "id": "5bb42f4d",
   "metadata": {},
   "outputs": [
    {
     "data": {
      "text/plain": [
       "<Axes: >"
      ]
     },
     "execution_count": 196,
     "metadata": {},
     "output_type": "execute_result"
    },
    {
     "data": {
      "image/png": "[encoded data removed]",
      "text/plain": [
       "<Figure size 640x480 with 1 Axes>"
      ]
     },
     "metadata": {},
     "output_type": "display_data"
    }
   ],
   "source": [
    "import seaborn as sb\n",
    "\n",
    "data = avg_infected_points.get(0.01)\n",
    "sb.lineplot(data)"
   ]
  },
  {
   "cell_type": "code",
   "execution_count": 197,
   "id": "2c2512bc",
   "metadata": {},
   "outputs": [
    {
     "data": {
      "text/plain": [
       "<Axes: >"
      ]
     },
     "execution_count": 197,
     "metadata": {},
     "output_type": "execute_result"
    },
    {
     "data": {
      "image/png": "[encoded data removed]",
      "text/plain": [
       "<Figure size 640x480 with 1 Axes>"
      ]
     },
     "metadata": {},
     "output_type": "display_data"
    }
   ],
   "source": [
    "data = avg_infected_points.get(0.05)\n",
    "sb.lineplot(data)"
   ]
  },
  {
   "cell_type": "code",
   "execution_count": 198,
   "id": "0ca06766",
   "metadata": {},
   "outputs": [
    {
     "data": {
      "text/plain": [
       "<Axes: >"
      ]
     },
     "execution_count": 198,
     "metadata": {},
     "output_type": "execute_result"
    },
    {
     "data": {
      "image/png": "[encoded data removed]",
      "text/plain": [
       "<Figure size 640x480 with 1 Axes>"
      ]
     },
     "metadata": {},
     "output_type": "display_data"
    }
   ],
   "source": [
    "data = avg_infected_points.get(0.1)\n",
    "sb.lineplot(data)"
   ]
  },
  {
   "cell_type": "code",
   "execution_count": 199,
   "id": "664a699a",
   "metadata": {},
   "outputs": [
    {
     "data": {
      "text/plain": [
       "<Axes: >"
      ]
     },
     "execution_count": 199,
     "metadata": {},
     "output_type": "execute_result"
    },
    {
     "data": {
      "image/png": "[encoded data removed]",
      "text/plain": [
       "<Figure size 640x480 with 1 Axes>"
      ]
     },
     "metadata": {},
     "output_type": "display_data"
    }
   ],
   "source": [
    "data = avg_infected_points.get(0.5)\n",
    "sb.lineplot(data)"
   ]
  },
  {
   "cell_type": "code",
   "execution_count": 200,
   "id": "712bd3d6",
   "metadata": {},
   "outputs": [
    {
     "data": {
      "text/plain": [
       "<Axes: >"
      ]
     },
     "execution_count": 200,
     "metadata": {},
     "output_type": "execute_result"
    },
    {
     "data": {
      "image/png": "[encoded data removed]",
      "text/plain": [
       "<Figure size 640x480 with 1 Axes>"
      ]
     },
     "metadata": {},
     "output_type": "display_data"
    }
   ],
   "source": [
    "data = avg_infected_points.get(1)\n",
    "sb.lineplot(data)"
   ]
  },
  {
   "cell_type": "markdown",
   "id": "980197f3",
   "metadata": {},
   "source": [
    "# Медианное время заражения каждого города при вероятности заражения в 0.5, 50 прогонов симуляции"
   ]
  },
  {
   "cell_type": "code",
   "execution_count": 210,
   "id": "b4101eea",
   "metadata": {},
   "outputs": [
    {
     "name": "stdout",
     "output_type": "stream",
     "text": [
      "Медианное время заражения аэропорта № 0  равно:  0.0\n",
      "Медианное время заражения аэропорта № 1  равно:  9.0\n",
      "Медианное время заражения аэропорта № 2  равно:  4.0\n",
      "Медианное время заражения аэропорта № 3  равно:  2.0\n",
      "Медианное время заражения аэропорта № 4  равно:  8.0\n",
      "Медианное время заражения аэропорта № 5  равно:  8.0\n",
      "Медианное время заражения аэропорта № 6  равно:  11.0\n",
      "Медианное время заражения аэропорта № 7  равно:  16.0\n",
      "Медианное время заражения аэропорта № 8  равно:  10.0\n",
      "Медианное время заражения аэропорта № 9  равно:  3.0\n"
     ]
    }
   ],
   "source": [
    "import numpy as np\n",
    "\n",
    "stats_50 = [0] * 50\n",
    "for i in range(0, 49):\n",
    "    stats_50[i] = simulate_infections(0, 0.5)\n",
    "    \n",
    "#print(stats_50)\n",
    "    \n",
    "airport_stats = [[], [], [], [], [], [], [], [], [], []]\n",
    "for i in range(0, 10):\n",
    "    airport_stats[i] = list()\n",
    "    j = 0\n",
    "    for l in range(0, 49):\n",
    "        if (stats_50[l][i] >  -1):\n",
    "            airport_stats[i].append(stats_50[l][i])\n",
    "            j = j + 1\n",
    "\n",
    "airport_infected_mesians = [0] * 10\n",
    "for i in range(0, 10):\n",
    "    airport_infected_mesians[i] = np.median(airport_stats[i])\n",
    "    \n",
    "for i in range(0, 10):\n",
    "    print(\"Медианное время заражения аэропорта №\", i, ' равно: ', airport_infected_mesians[i])"
   ]
  },
  {
   "cell_type": "code",
   "execution_count": 246,
   "id": "f90cabc5",
   "metadata": {},
   "outputs": [
    {
     "data": {
      "text/plain": [
       "[[0.0,\n",
       "  0.06746031746031746,\n",
       "  0.027777777777777776,\n",
       "  0.027777777777777776,\n",
       "  0.027777777777777776,\n",
       "  0.007936507936507936,\n",
       "  0.027777777777777776,\n",
       "  0.031746031746031744,\n",
       "  0.0,\n",
       "  0.007936507936507936],\n",
       " [0.06746031746031746,\n",
       "  0.0,\n",
       "  0.01984126984126984,\n",
       "  0.027777777777777776,\n",
       "  0.10317460317460317,\n",
       "  0.023809523809523808,\n",
       "  0.0,\n",
       "  0.007936507936507936,\n",
       "  0.03571428571428571,\n",
       "  0.0],\n",
       " [0.027777777777777776,\n",
       "  0.01984126984126984,\n",
       "  0.0,\n",
       "  0.07539682539682539,\n",
       "  0.027777777777777776,\n",
       "  0.0,\n",
       "  0.03571428571428571,\n",
       "  0.05555555555555555,\n",
       "  0.0,\n",
       "  0.003968253968253968],\n",
       " [0.027777777777777776,\n",
       "  0.027777777777777776,\n",
       "  0.07539682539682539,\n",
       "  0.0,\n",
       "  0.04365079365079365,\n",
       "  0.0,\n",
       "  0.0,\n",
       "  0.031746031746031744,\n",
       "  0.031746031746031744,\n",
       "  0.031746031746031744],\n",
       " [0.027777777777777776,\n",
       "  0.10317460317460317,\n",
       "  0.027777777777777776,\n",
       "  0.04365079365079365,\n",
       "  0.0,\n",
       "  0.031746031746031744,\n",
       "  0.0,\n",
       "  0.0,\n",
       "  0.003968253968253968,\n",
       "  0.007936507936507936],\n",
       " [0.007936507936507936,\n",
       "  0.023809523809523808,\n",
       "  0.0,\n",
       "  0.0,\n",
       "  0.031746031746031744,\n",
       "  0.0,\n",
       "  0.003968253968253968,\n",
       "  0.031746031746031744,\n",
       "  0.0,\n",
       "  0.0],\n",
       " [0.027777777777777776,\n",
       "  0.0,\n",
       "  0.03571428571428571,\n",
       "  0.0,\n",
       "  0.0,\n",
       "  0.003968253968253968,\n",
       "  0.0,\n",
       "  0.027777777777777776,\n",
       "  0.0,\n",
       "  0.023809523809523808],\n",
       " [0.031746031746031744,\n",
       "  0.007936507936507936,\n",
       "  0.05555555555555555,\n",
       "  0.031746031746031744,\n",
       "  0.0,\n",
       "  0.031746031746031744,\n",
       "  0.027777777777777776,\n",
       "  0.0,\n",
       "  0.0,\n",
       "  0.027777777777777776],\n",
       " [0.0,\n",
       "  0.03571428571428571,\n",
       "  0.0,\n",
       "  0.031746031746031744,\n",
       "  0.003968253968253968,\n",
       "  0.0,\n",
       "  0.0,\n",
       "  0.0,\n",
       "  0.0,\n",
       "  0.05952380952380952],\n",
       " [0.007936507936507936,\n",
       "  0.0,\n",
       "  0.003968253968253968,\n",
       "  0.031746031746031744,\n",
       "  0.007936507936507936,\n",
       "  0.0,\n",
       "  0.023809523809523808,\n",
       "  0.027777777777777776,\n",
       "  0.05952380952380952,\n",
       "  0.0]]"
      ]
     },
     "execution_count": 246,
     "metadata": {},
     "output_type": "execute_result"
    }
   ],
   "source": [
    "def calculate_connections_graph_matix():\n",
    "    mtx = [[0 for x in range(10)] for y in range(10)] \n",
    "    connections_count = 0\n",
    "    for connections in time_table.values():\n",
    "        for connection in connections:\n",
    "            \n",
    "            start = connection[0]\n",
    "            dest = connection[1]\n",
    "            \n",
    "            #print(\"start: \", start, \"dest: \", dest)\n",
    "            \n",
    "            mtx[start][dest] = mtx[start][dest] + 1\n",
    "            mtx[dest][start] = mtx[start][dest] \n",
    "            connections_count = connections_count + 1\n",
    "            \n",
    "    for i in range(0, 10):\n",
    "        for j in range(0, 10):\n",
    "            #print(i, \" x \", j ,\": \",  mtx[i][j])\n",
    "            mtx[i][j] = mtx[i][j] / connections_count\n",
    "            #print(\"after: \",  mtx[i][j])\n",
    "            #print(mtx[i][j])\n",
    "            \n",
    "    #print(connections_count)\n",
    "            \n",
    "    return mtx\n",
    "        \n",
    "            \n",
    "\n",
    "calculate_connections_graph_matix()"
   ]
  },
  {
   "cell_type": "code",
   "execution_count": null,
   "id": "500a7249",
   "metadata": {},
   "outputs": [],
   "source": []
  },
  {
   "cell_type": "code",
   "execution_count": null,
   "id": "a3f6bb9f",
   "metadata": {},
   "outputs": [],
   "source": []
  }
 ],
 "metadata": {
  "kernelspec": {
   "display_name": "Python 3 (ipykernel)",
   "language": "python",
   "name": "python3"
  },
  "language_info": {
   "codemirror_mode": {
    "name": "ipython",
    "version": 3
   },
   "file_extension": ".py",
   "mimetype": "text/x-python",
   "name": "python",
   "nbconvert_exporter": "python",
   "pygments_lexer": "ipython3",
   "version": "3.11.4"
  }
 },
 "nbformat": 4,
 "nbformat_minor": 5
}
