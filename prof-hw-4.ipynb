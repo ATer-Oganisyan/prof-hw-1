{
 "cells": [
  {
   "cell_type": "markdown",
   "id": "337535bc",
   "metadata": {},
   "source": [
    "# Инициализируем данные по авиасообщениями между аэропортами (иными словами - задаем матрицу графа). Без использования NetworkX\n"
   ]
  },
  {
   "cell_type": "code",
   "execution_count": 1,
   "id": "bb698cd9",
   "metadata": {},
   "outputs": [],
   "source": [
    "# Аэропорты нумеруем простыми числами (случайным обрзом)\n",
    "# Вообще, по идее, выгружать эту инфу извне, но лень :)\n",
    "\n",
    "gr_mtx = [\n",
    "    [1, 0, 1, 0, 0, 1, 0, 1, 1, 1], \n",
    "    [0, 1, 1, 1, 0, 0, 0, 1, 1, 0], \n",
    "    [1, 0, 1, 0, 1, 1, 0, 0, 0, 1], \n",
    "    [0, 0, 0, 1, 1, 1, 0, 0, 0, 1], \n",
    "    [0, 0, 0, 1, 1, 1, 1, 0, 0, 1], \n",
    "    [1, 0, 0, 1, 1, 1, 1, 0, 0, 0], \n",
    "    [1, 0, 0, 1, 1, 0, 1, 0, 1, 1], \n",
    "    [1, 0, 0, 1, 1, 1, 1, 1, 0, 0], \n",
    "    [0, 0, 0, 1, 1, 0, 1, 0, 1, 1], \n",
    "    [0, 0, 0, 1, 1, 0, 1, 0, 1, 1] \n",
    "]\n",
    "\n",
    "n = 10"
   ]
  },
  {
   "cell_type": "markdown",
   "id": "57d9355e",
   "metadata": {},
   "source": [
    "# Обход графа (заражение с определенной вероятностью)"
   ]
  },
  {
   "cell_type": "code",
   "execution_count": 18,
   "id": "8c66a83b",
   "metadata": {},
   "outputs": [
    {
     "name": "stdout",
     "output_type": "stream",
     "text": [
      "{2: 1, 0: 2, 5: 3, 3: 4, 4: 5, 6: 6, 8: 7, 7: 3}\n"
     ]
    }
   ],
   "source": [
    "import numpy as np\n",
    "\n",
    "def infect_net(start, prob, infected_points = {}, counter = 1):\n",
    "    aa = np.arange(start = 0, stop = 2, step = 1)\n",
    "    pp = [1 - prob, prob]\n",
    "    rand = np.random.choice(a = aa, p = pp)\n",
    "\n",
    "    \n",
    "    if (rand == 0):\n",
    "        return infected_points\n",
    "    \n",
    "    infected_points[start] = counter\n",
    "    \n",
    "    connected_points = gr_mtx[start]\n",
    "    \n",
    "    for i in range(0, n - 1):\n",
    "        if (i != start and i not in infected_points and connected_points[i] == 1):\n",
    "            infected_points = infect_net(i, prob, infected_points, counter + 1)\n",
    "    \n",
    "    return infected_points\n",
    "    \n",
    "result = infect_net(2, 0.9)\n",
    "print(result)"
   ]
  },
  {
   "cell_type": "markdown",
   "id": "78683f87",
   "metadata": {},
   "source": [
    "# Симуляция без использования графов. Данные по перелетам ожидаем в формате расписания. А именно: ключ - время (в часах), отсчитывая от какого-то момента времени, значения - пара (начало и конец маршрута). Исходя из условия задачи, стартовый аэропорт уже заражен, т. е. к нему вероятность не применяем.  "
   ]
  },
  {
   "cell_type": "code",
   "execution_count": 40,
   "id": "e9385957",
   "metadata": {},
   "outputs": [
    {
     "data": {
      "text/plain": [
       "[0, 3, 13, 3, 36, 8, -1, -1, 70, -1]"
      ]
     },
     "execution_count": 40,
     "metadata": {},
     "output_type": "execute_result"
    }
   ],
   "source": [
    "import numpy as np\n",
    "\n",
    "time_table = {\n",
    "    1: [[0, 2], [1, 3]],\n",
    "    2: [[1, 5], [1, 4], [0, 3]],\n",
    "    3: [[0, 1], [1, 3], [3, 9], [0, 9]],\n",
    "    4: [[6, 7], [4, 1], [3, 2], [4, 1], [3, 2]],\n",
    "    5: [[8, 9], [9, 8], [9, 6]],\n",
    "    6: [[4, 3], [4, 5], [3, 9],[5, 7], [6, 2]],\n",
    "    7: [[4, 0], [2, 3], [5, 7], [9, 3], [7, 0]],\n",
    "    8: [[7, 9], [7, 2], [6, 0], [0, 4], [0, 5]],\n",
    "    9: [[7, 3], [4, 2], [4, 1]],\n",
    "    10: [[8, 1], [3, 8], [7, 2]],\n",
    "    11: [[0, 7], [2, 6], [0, 1], [3, 4], [6, 5]],\n",
    "    13: [[0, 2], [1, 3]],\n",
    "    14: [[1, 5], [1, 4], [0, 3], [9, 8], [7, 3]],\n",
    "    15: [[0, 1], [4, 1], [3, 2]],\n",
    "    16: [[6, 7], [4, 1], [3, 2], [1, 2], [2, 1]],\n",
    "    17: [[8, 9], [9, 8], [9, 6]],\n",
    "    18: [[4, 3], [4, 5], [3, 9]],\n",
    "    19: [[4, 0], [2, 3], [5, 7], [4, 5], [9, 8]],\n",
    "    20: [[7, 9], [7, 2], [6, 0]],\n",
    "    21: [[7, 3], [4, 2], [4, 1], [5, 0], [1, 4]],\n",
    "    22: [[8, 1], [3, 8], [7, 2]],\n",
    "    23: [[0, 7], [2, 6], [0, 1], [4, 3], [2, 1]],\n",
    "    24: [[0, 2], [1, 3]],\n",
    "    25: [[1, 5], [1, 4], [0, 3], [1, 2], [3, 4]],\n",
    "    26: [[0, 1]],\n",
    "    27: [[6, 7], [4, 1], [3, 2]],\n",
    "    28: [[8, 9], [9, 8], [9, 6]],\n",
    "    29: [[4, 3], [4, 5], [3, 9], [3, 4], [4, 3]],\n",
    "    30: [[4, 0], [2, 3], [5, 7]],\n",
    "    31: [[7, 9], [7, 2], [6, 0], [1, 0], [0, 1]],\n",
    "    32: [[7, 3], [4, 2], [4, 1]],\n",
    "    33: [[8, 1], [3, 8], [7, 2]],\n",
    "    34: [[0, 7], [2, 6], [0, 1], [2, 9], [8, 3]],\n",
    "    35: [[0, 2], [1, 3]],\n",
    "    36: [[1, 5], [1, 4], [0, 3]],\n",
    "    37: [[0, 1]],\n",
    "    38: [[6, 7], [4, 1], [3, 2], [9, 0], [1, 8]],\n",
    "    39: [[8, 9], [9, 8], [9, 6]],\n",
    "    40: [[4, 3], [4, 5], [3, 9], [7, 5], [4, 8]],\n",
    "    41: [[4, 0], [2, 3], [5, 7]],\n",
    "    42: [[7, 9], [7, 2], [6, 0]],\n",
    "    43: [[7, 3], [4, 2], [4, 1], [4, 1], [3, 2]],\n",
    "    44: [[8, 1], [3, 8], [7, 2]],\n",
    "    45: [[0, 7], [2, 6], [0, 1], [4, 1], [3, 2]],\n",
    "    46: [[7, 9], [7, 2], [6, 0]],\n",
    "    47: [[7, 3], [4, 2], [4, 1], [0, 1], [2, 3]],\n",
    "    48: [[8, 1], [3, 8], [7, 2]],\n",
    "    49: [[0, 7], [2, 6], [0, 1]],\n",
    "    50: [[0, 2], [1, 3]],\n",
    "    51: [[1, 5], [1, 4], [0, 3], [4, 5], [6, 7]],\n",
    "    52: [[0, 1]],\n",
    "    53: [[6, 7], [4, 1], [3, 2]],\n",
    "    54: [[8, 9], [9, 8], [9, 6]],\n",
    "    55: [[4, 3], [4, 5], [3, 9], [8, 9], [1, 7]],\n",
    "    56: [[4, 0], [2, 3], [5, 7]],\n",
    "    57: [[7, 9], [7, 2], [6, 0]],\n",
    "    58: [[7, 3], [4, 2], [4, 1]],\n",
    "    59: [[8, 1], [3, 8], [7, 2], [8, 1], [0, 3]],\n",
    "    60: [[0, 7], [2, 6], [0, 1]],\n",
    "    61: [[0, 2], [1, 3]],\n",
    "    62: [[1, 5], [1, 4], [0, 3]],\n",
    "    63: [[0, 1]],\n",
    "    64: [[6, 7], [4, 1], [3, 2], [4, 1], [2, 0]],\n",
    "    65: [[8, 9], [9, 8], [9, 6]],\n",
    "    66: [[4, 3], [4, 5], [3, 9]],\n",
    "    67: [[4, 0], [2, 3], [5, 7], [0, 1], [3, 2]],\n",
    "    68: [[7, 9], [7, 2], [6, 0]],\n",
    "    69: [[7, 3], [4, 2], [4, 1], [4, 1], [3, 2]],\n",
    "    70: [[8, 1], [3, 8], [7, 2]],\n",
    "    71: [[1, 7], [2, 6], [2, 1], [4, 9], [9, 4]],\n",
    "    72: [[0, 7], [2, 6], [0, 1]],\n",
    "}\n",
    "\n",
    "\n",
    "\n",
    "def is_infected(prob):\n",
    "    aa = np.arange(start = 0, stop = 2, step = 1)\n",
    "    pp = [1 - prob, prob]\n",
    "    rand = np.random.choice(a = aa, p = pp)\n",
    "    if (rand == 1):\n",
    "        return True\n",
    "    return False\n",
    "    \n",
    "\n",
    "def simulate_infections(start, prob):\n",
    "    airports_infected_times = [-1, -1, -1, -1, -1, -1, -1, -1, -1, -1] # В начале ни один из них не заражен (-1 - незаражен, иное - время заражения)\n",
    "    airports_infected_times[start] = 0 #стартовый аэропрот заражен в нулевой точке отчета времени\n",
    "    \n",
    "    times_of_connections = time_table.keys()\n",
    "    \n",
    "    for time_of_connection in times_of_connections:\n",
    "        connections = time_table[time_of_connection]\n",
    "        \n",
    "        for connection in connections:\n",
    "            airport_start_index = connection[0]\n",
    "            airport_destination_index = connection[1]\n",
    "            \n",
    "            airport_start_is_infected = airports_infected_times[airport_start_index]\n",
    "            airport_destination_is_infected = airports_infected_times[airport_destination_index]\n",
    "            \n",
    "            if (airport_start_is_infected > -1 and is_infected(prob) and airport_destination_is_infected == -1):\n",
    "                airports_infected_times[airport_destination_index] = time_of_connection\n",
    "                \n",
    "    return airports_infected_times\n",
    "            \n",
    "\n",
    "simulate_infections(0, 0.1)\n"
   ]
  },
  {
   "cell_type": "code",
   "execution_count": null,
   "id": "f48acd46",
   "metadata": {},
   "outputs": [],
   "source": []
  }
 ],
 "metadata": {
  "kernelspec": {
   "display_name": "Python 3 (ipykernel)",
   "language": "python",
   "name": "python3"
  },
  "language_info": {
   "codemirror_mode": {
    "name": "ipython",
    "version": 3
   },
   "file_extension": ".py",
   "mimetype": "text/x-python",
   "name": "python",
   "nbconvert_exporter": "python",
   "pygments_lexer": "ipython3",
   "version": "3.11.4"
  }
 },
 "nbformat": 4,
 "nbformat_minor": 5
}
