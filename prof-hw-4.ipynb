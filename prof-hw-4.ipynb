{
 "cells": [
  {
   "cell_type": "markdown",
   "id": "337535bc",
   "metadata": {},
   "source": [
    "# Инициализируем данные по авиасообщениями между аэропортами (иными словами - задаем матрицу графа). Без использования NetworkX\n"
   ]
  },
  {
   "cell_type": "code",
   "execution_count": 1,
   "id": "bb698cd9",
   "metadata": {},
   "outputs": [],
   "source": [
    "# Аэропорты нумеруем простыми числами (случайным обрзом)\n",
    "# Вообще, по идее, выгружать эту инфу извне, но лень :)\n",
    "\n",
    "gr_mtx = [\n",
    "    [1, 0, 1, 0, 0, 1, 0, 1, 1, 1], \n",
    "    [0, 1, 1, 1, 0, 0, 0, 1, 1, 0], \n",
    "    [1, 0, 1, 0, 1, 1, 0, 0, 0, 1], \n",
    "    [0, 0, 0, 1, 1, 1, 0, 0, 0, 1], \n",
    "    [0, 0, 0, 1, 1, 1, 1, 0, 0, 1], \n",
    "    [1, 0, 0, 1, 1, 1, 1, 0, 0, 0], \n",
    "    [1, 0, 0, 1, 1, 0, 1, 0, 1, 1], \n",
    "    [1, 0, 0, 1, 1, 1, 1, 1, 0, 0], \n",
    "    [0, 0, 0, 1, 1, 0, 1, 0, 1, 1], \n",
    "    [0, 0, 0, 1, 1, 0, 1, 0, 1, 1] \n",
    "]\n",
    "\n",
    "n = 10 # количество аэропортов"
   ]
  },
  {
   "cell_type": "markdown",
   "id": "57d9355e",
   "metadata": {},
   "source": [
    "# Обход графа (заражение с определенной вероятностью)"
   ]
  },
  {
   "cell_type": "code",
   "execution_count": 49,
   "id": "8c66a83b",
   "metadata": {},
   "outputs": [
    {
     "name": "stdout",
     "output_type": "stream",
     "text": [
      "Аэропорт № 0 Заразился за  2  шагов обхода\n",
      "Аэропорт № 2 Заразился за  1  шагов обхода\n",
      "Аэропорт № 3 Заразился за  6  шагов обхода\n",
      "Аэропорт № 4 Заразился за  9  шагов обхода\n",
      "Аэропорт № 5 Заразился за  8  шагов обхода\n",
      "Аэропорт № 6 Заразился за  7  шагов обхода\n",
      "Аэропорт № 8 Заразился за  5  шагов обхода\n"
     ]
    }
   ],
   "source": [
    "import numpy as np\n",
    "\n",
    "def infect_net(start, prob, infected_points = {}, counter = 1):\n",
    "    aa = np.arange(start = 0, stop = 2, step = 1)\n",
    "    pp = [1 - prob, prob]\n",
    "    rand = np.random.choice(a = aa, p = pp)\n",
    "\n",
    "    \n",
    "    if (rand == 0):\n",
    "        return infected_points\n",
    "    \n",
    "    infected_points[start] = counter\n",
    "    \n",
    "    connected_points = gr_mtx[start]\n",
    "    \n",
    "    for i in range(0, n - 1):\n",
    "        if (i != start and i not in infected_points and connected_points[i] == 1):\n",
    "            infected_points = infect_net(i, prob, infected_points, counter + 1)\n",
    "            counter = counter + 1\n",
    "    \n",
    "    return infected_points\n",
    "    \n",
    "result = infect_net(start = 2, prob = 0.8)\n",
    "\n",
    "\n",
    "for i in range(0, n - 1):\n",
    "    if (result.get(i) != None):\n",
    "        print(\"Аэропорт №\", i, 'Заразился за ', result.get(i), ' шагов обхода')\n",
    "    "
   ]
  },
  {
   "cell_type": "markdown",
   "id": "671dc285",
   "metadata": {},
   "source": [
    "# Симуляция без использования графов. Данные по перелетам ожидаем в формате расписания. А именно: ключ - время (в часах), отсчитывая от какого-то момента времени, значения - пара (начало и конец маршрута). Исходя из условия задачи, стартовый аэропорт уже заражен, т. е. к нему вероятность не применяем.  "
   ]
  },
  {
   "cell_type": "code",
   "execution_count": 63,
   "id": "f91c753b",
   "metadata": {},
   "outputs": [
    {
     "name": "stdout",
     "output_type": "stream",
     "text": [
      "Аэропорт № 0 Заразился за  0  часов\n",
      "Аэропорт № 1 Заразился за  72  часов\n"
     ]
    }
   ],
   "source": [
    "import numpy as np\n",
    "\n",
    "time_table = {\n",
    "    1: [[0, 2], [1, 3]],\n",
    "    2: [[1, 5], [1, 4], [0, 3]],\n",
    "    3: [[0, 1], [1, 3], [3, 9], [0, 9]],\n",
    "    4: [[6, 7], [4, 1], [3, 2], [4, 1], [3, 2]],\n",
    "    5: [[8, 9], [9, 8], [9, 6]],\n",
    "    6: [[4, 3], [4, 5], [3, 9],[5, 7], [6, 2]],\n",
    "    7: [[4, 0], [2, 3], [5, 7], [9, 3], [7, 0]],\n",
    "    8: [[7, 9], [7, 2], [6, 0], [0, 4], [0, 5]],\n",
    "    9: [[7, 3], [4, 2], [4, 1]],\n",
    "    10: [[8, 1], [3, 8], [7, 2]],\n",
    "    11: [[0, 7], [2, 6], [0, 1], [3, 4], [6, 5]],\n",
    "    13: [[0, 2], [1, 3]],\n",
    "    14: [[1, 5], [1, 4], [0, 3], [9, 8], [7, 3]],\n",
    "    15: [[0, 1], [4, 1], [3, 2]],\n",
    "    16: [[6, 7], [4, 1], [3, 2], [1, 2], [2, 1]],\n",
    "    17: [[8, 9], [9, 8], [9, 6]],\n",
    "    18: [[4, 3], [4, 5], [3, 9]],\n",
    "    19: [[4, 0], [2, 3], [5, 7], [4, 5], [9, 8]],\n",
    "    20: [[7, 9], [7, 2], [6, 0]],\n",
    "    21: [[7, 3], [4, 2], [4, 1], [5, 0], [1, 4]],\n",
    "    22: [[8, 1], [3, 8], [7, 2]],\n",
    "    23: [[0, 7], [2, 6], [0, 1], [4, 3], [2, 1]],\n",
    "    24: [[0, 2], [1, 3]],\n",
    "    25: [[1, 5], [1, 4], [0, 3], [1, 2], [3, 4]],\n",
    "    26: [[0, 1]],\n",
    "    27: [[6, 7], [4, 1], [3, 2]],\n",
    "    28: [[8, 9], [9, 8], [9, 6]],\n",
    "    29: [[4, 3], [4, 5], [3, 9], [3, 4], [4, 3]],\n",
    "    30: [[4, 0], [2, 3], [5, 7]],\n",
    "    31: [[7, 9], [7, 2], [6, 0], [1, 0], [0, 1]],\n",
    "    32: [[7, 3], [4, 2], [4, 1]],\n",
    "    33: [[8, 1], [3, 8], [7, 2]],\n",
    "    34: [[0, 7], [2, 6], [0, 1], [2, 9], [8, 3]],\n",
    "    35: [[0, 2], [1, 3]],\n",
    "    36: [[1, 5], [1, 4], [0, 3]],\n",
    "    37: [[0, 1]],\n",
    "    38: [[6, 7], [4, 1], [3, 2], [9, 0], [1, 8]],\n",
    "    39: [[8, 9], [9, 8], [9, 6]],\n",
    "    40: [[4, 3], [4, 5], [3, 9], [7, 5], [4, 8]],\n",
    "    41: [[4, 0], [2, 3], [5, 7]],\n",
    "    42: [[7, 9], [7, 2], [6, 0]],\n",
    "    43: [[7, 3], [4, 2], [4, 1], [4, 1], [3, 2]],\n",
    "    44: [[8, 1], [3, 8], [7, 2]],\n",
    "    45: [[0, 7], [2, 6], [0, 1], [4, 1], [3, 2]],\n",
    "    46: [[7, 9], [7, 2], [6, 0]],\n",
    "    47: [[7, 3], [4, 2], [4, 1], [0, 1], [2, 3]],\n",
    "    48: [[8, 1], [3, 8], [7, 2]],\n",
    "    49: [[0, 7], [2, 6], [0, 1]],\n",
    "    50: [[0, 2], [1, 3]],\n",
    "    51: [[1, 5], [1, 4], [0, 3], [4, 5], [6, 7]],\n",
    "    52: [[0, 1]],\n",
    "    53: [[6, 7], [4, 1], [3, 2]],\n",
    "    54: [[8, 9], [9, 8], [9, 6]],\n",
    "    55: [[4, 3], [4, 5], [3, 9], [8, 9], [1, 7]],\n",
    "    56: [[4, 0], [2, 3], [5, 7]],\n",
    "    57: [[7, 9], [7, 2], [6, 0]],\n",
    "    58: [[7, 3], [4, 2], [4, 1]],\n",
    "    59: [[8, 1], [3, 8], [7, 2], [8, 1], [0, 3]],\n",
    "    60: [[0, 7], [2, 6], [0, 1]],\n",
    "    61: [[0, 2], [1, 3]],\n",
    "    62: [[1, 5], [1, 4], [0, 3]],\n",
    "    63: [[0, 1]],\n",
    "    64: [[6, 7], [4, 1], [3, 2], [4, 1], [2, 0]],\n",
    "    65: [[8, 9], [9, 8], [9, 6]],\n",
    "    66: [[4, 3], [4, 5], [3, 9]],\n",
    "    67: [[4, 0], [2, 3], [5, 7], [0, 1], [3, 2]],\n",
    "    68: [[7, 9], [7, 2], [6, 0]],\n",
    "    69: [[7, 3], [4, 2], [4, 1], [4, 1], [3, 2]],\n",
    "    70: [[8, 1], [3, 8], [7, 2]],\n",
    "    71: [[1, 7], [2, 6], [2, 1], [4, 9], [9, 4]],\n",
    "    72: [[0, 7], [2, 6], [0, 1]],\n",
    "}\n",
    "\n",
    "\n",
    "\n",
    "def is_infected(prob):\n",
    "    aa = np.arange(start = 0, stop = 2, step = 1)\n",
    "    pp = [1 - prob, prob]\n",
    "    rand = np.random.choice(a = aa, p = pp)\n",
    "    if (rand == 1):\n",
    "        return True\n",
    "    return False\n",
    "    \n",
    "\n",
    "def simulate_infections(start, prob):\n",
    "    airports_infected_times = [-1, -1, -1, -1, -1, -1, -1, -1, -1, -1] # В начале ни один из них не заражен (-1 - незаражен, иное - время заражения)\n",
    "    airports_infected_times[start] = 0 #стартовый аэропрот заражен в нулевой точке отчета времени\n",
    "    \n",
    "    times_of_connections = time_table.keys()\n",
    "    \n",
    "    for time_of_connection in times_of_connections:\n",
    "        connections = time_table[time_of_connection]\n",
    "        \n",
    "        for connection in connections:\n",
    "            airport_start_index = connection[0]\n",
    "            airport_destination_index = connection[1]\n",
    "            \n",
    "            airport_start_is_infected = airports_infected_times[airport_start_index]\n",
    "            airport_destination_is_infected = airports_infected_times[airport_destination_index]\n",
    "            \n",
    "            if (airport_start_is_infected > -1 and is_infected(prob) and airport_destination_is_infected == -1):\n",
    "                airports_infected_times[airport_destination_index] = time_of_connection\n",
    "                \n",
    "    return airports_infected_times\n",
    "            \n",
    "\n",
    "result = simulate_infections(0, 0.1)\n",
    "\n",
    "for i in range(0, n - 1):\n",
    "    if (result[i] > -1):\n",
    "        print(\"Аэропорт №\", i, 'Заразился за ', result[i], ' часов')\n"
   ]
  },
  {
   "cell_type": "markdown",
   "id": "2b58e7d2",
   "metadata": {},
   "source": [
    "# Собираем статистику"
   ]
  },
  {
   "cell_type": "code",
   "execution_count": 65,
   "id": "d6aad3df",
   "metadata": {},
   "outputs": [],
   "source": [
    "probs = [0.01, 0.05, 0.1, 0.5, 1]\n",
    "stats = {}\n",
    "for prob in probs:\n",
    "    stats[prob] = [[], [], [], [], [], [], [], [], [], []]\n",
    "    for i in range(0, 10):\n",
    "        stats[prob][i] = simulate_infections(0, 0.1)\n",
    "        \n",
    "# print(stats)"
   ]
  },
  {
   "cell_type": "code",
   "execution_count": 67,
   "id": "4015e4d7",
   "metadata": {},
   "outputs": [],
   "source": [
    "# Количество зараженных аэропортов за период\n",
    "def count_of_infected_points_for_period(airports_infected_times, period):\n",
    "    percent_of_infected_points_for_period = {}\n",
    "    for time in range(0, 72, step = period):\n",
    "        count = 0\n",
    "        for airport_infected_time in airports_infected_times:\n",
    "            if (airport_infected_time <= time):\n",
    "                counter = counter + 1\n",
    "            count_of_infected_points_for_period[time] = counter / n # n - общее количество аэропортв\n",
    "    return count_of_infected_points_for_period"
   ]
  },
  {
   "cell_type": "code",
   "execution_count": null,
   "id": "d21b1c2e",
   "metadata": {},
   "outputs": [],
   "source": [
    "avg_infected_points = {}\n",
    "for prob in probs:\n",
    "    stat = stats[prob]\n",
    "    for data_set in stat:\n",
    "        cnt_for_period = count_of_infected_points_for_period(data_set, period):"
   ]
  }
 ],
 "metadata": {
  "kernelspec": {
   "display_name": "Python 3 (ipykernel)",
   "language": "python",
   "name": "python3"
  },
  "language_info": {
   "codemirror_mode": {
    "name": "ipython",
    "version": 3
   },
   "file_extension": ".py",
   "mimetype": "text/x-python",
   "name": "python",
   "nbconvert_exporter": "python",
   "pygments_lexer": "ipython3",
   "version": "3.11.4"
  }
 },
 "nbformat": 4,
 "nbformat_minor": 5
}
